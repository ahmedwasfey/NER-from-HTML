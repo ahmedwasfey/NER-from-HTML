{
  "nbformat": 4,
  "nbformat_minor": 0,
  "metadata": {
    "colab": {
      "provenance": [],
      "collapsed_sections": [
        "YIK2jcsHY8eK",
        "TVay9KamnC3I",
        "zM46fCcUtmMO",
        "Bcwdslw7v0Q8",
        "vTmvFEs41WkV",
        "jusp9hdzWAKq",
        "Lh-tW8TMIP3B",
        "FstlgHN7UyWP"
      ],
      "mount_file_id": "15ESS4pW0Ur0CskUzW8zSTqh6Wl9O7FzD",
      "authorship_tag": "ABX9TyOaAYDyvd6X2A3Nwdm9fy1X",
      "include_colab_link": true
    },
    "kernelspec": {
      "name": "python3",
      "display_name": "Python 3"
    },
    "language_info": {
      "name": "python"
    }
  },
  "cells": [
    {
      "cell_type": "markdown",
      "metadata": {
        "id": "view-in-github",
        "colab_type": "text"
      },
      "source": [
        "<a href=\"https://colab.research.google.com/github/ahmedwasfey/NER-from-HTML/blob/main/notebooks/NER_Task_v0_0.ipynb\" target=\"_parent\"><img src=\"https://colab.research.google.com/assets/colab-badge.svg\" alt=\"Open In Colab\"/></a>"
      ]
    },
    {
      "cell_type": "markdown",
      "metadata": {
        "id": "YIK2jcsHY8eK"
      },
      "source": [
        "## installing dependencies "
      ]
    },
    {
      "cell_type": "code",
      "metadata": {
        "colab": {
          "base_uri": "https://localhost:8080/"
        },
        "id": "kRnF-y-4Y8JU",
        "outputId": "d8661373-1a2a-478a-9a90-444889d61fbe"
      },
      "source": [
        "import torch\n",
        "\n",
        "# If there's a GPU available...\n",
        "if torch.cuda.is_available():    \n",
        "\n",
        "    # Tell PyTorch to use the GPU.    \n",
        "    device = torch.device(\"cuda\")\n",
        "\n",
        "    print('There are %d GPU(s) available.' % torch.cuda.device_count())\n",
        "\n",
        "    print('We will use the GPU:', torch.cuda.get_device_name(0))\n",
        "    !nvidia-smi\n",
        "\n",
        "# If not...\n",
        "else:\n",
        "    print('No GPU available, using the CPU instead.')\n",
        "    device = torch.device(\"cpu\")"
      ],
      "execution_count": null,
      "outputs": [
        {
          "output_type": "stream",
          "name": "stdout",
          "text": [
            "No GPU available, using the CPU instead.\n"
          ]
        }
      ]
    },
    {
      "cell_type": "code",
      "metadata": {
        "id": "LiDNzfdCzYTW",
        "colab": {
          "base_uri": "https://localhost:8080/"
        },
        "outputId": "d361273b-1b29-4660-a28e-6ed94e04cba9"
      },
      "source": [
        "!pip install sentencepiece\n",
        "!git clone https://github.com/huggingface/transformers\n",
        "!cd transformers && pip install .\n",
        "!pip install nervaluate"
      ],
      "execution_count": null,
      "outputs": [
        {
          "output_type": "stream",
          "name": "stdout",
          "text": [
            "Looking in indexes: https://pypi.org/simple, https://us-python.pkg.dev/colab-wheels/public/simple/\n",
            "Collecting sentencepiece\n",
            "  Downloading sentencepiece-0.1.97-cp38-cp38-manylinux_2_17_x86_64.manylinux2014_x86_64.whl (1.3 MB)\n",
            "\u001b[2K     \u001b[90m━━━━━━━━━━━━━━━━━━━━━━━━━━━━━━━━━━━━━━━━\u001b[0m \u001b[32m1.3/1.3 MB\u001b[0m \u001b[31m17.4 MB/s\u001b[0m eta \u001b[36m0:00:00\u001b[0m\n",
            "\u001b[?25hInstalling collected packages: sentencepiece\n",
            "Successfully installed sentencepiece-0.1.97\n",
            "Cloning into 'transformers'...\n",
            "remote: Enumerating objects: 121942, done.\u001b[K\n",
            "remote: Counting objects: 100% (339/339), done.\u001b[K\n",
            "remote: Compressing objects: 100% (243/243), done.\u001b[K\n",
            "remote: Total 121942 (delta 167), reused 192 (delta 72), pack-reused 121603\u001b[K\n",
            "Receiving objects: 100% (121942/121942), 116.13 MiB | 23.55 MiB/s, done.\n",
            "Resolving deltas: 100% (91156/91156), done.\n",
            "Looking in indexes: https://pypi.org/simple, https://us-python.pkg.dev/colab-wheels/public/simple/\n",
            "Processing /content/transformers\n",
            "  Installing build dependencies ... \u001b[?25l\u001b[?25hdone\n",
            "  Getting requirements to build wheel ... \u001b[?25l\u001b[?25hdone\n",
            "  Preparing metadata (pyproject.toml) ... \u001b[?25l\u001b[?25hdone\n",
            "Requirement already satisfied: filelock in /usr/local/lib/python3.8/dist-packages (from transformers==4.26.0.dev0) (3.9.0)\n",
            "Requirement already satisfied: requests in /usr/local/lib/python3.8/dist-packages (from transformers==4.26.0.dev0) (2.25.1)\n",
            "Requirement already satisfied: pyyaml>=5.1 in /usr/local/lib/python3.8/dist-packages (from transformers==4.26.0.dev0) (6.0)\n",
            "Collecting huggingface-hub<1.0,>=0.10.0\n",
            "  Downloading huggingface_hub-0.11.1-py3-none-any.whl (182 kB)\n",
            "\u001b[2K     \u001b[90m━━━━━━━━━━━━━━━━━━━━━━━━━━━━━━━━━━━━━━━\u001b[0m \u001b[32m182.4/182.4 KB\u001b[0m \u001b[31m4.7 MB/s\u001b[0m eta \u001b[36m0:00:00\u001b[0m\n",
            "\u001b[?25hCollecting tokenizers!=0.11.3,<0.14,>=0.11.1\n",
            "  Downloading tokenizers-0.13.2-cp38-cp38-manylinux_2_17_x86_64.manylinux2014_x86_64.whl (7.6 MB)\n",
            "\u001b[2K     \u001b[90m━━━━━━━━━━━━━━━━━━━━━━━━━━━━━━━━━━━━━━━━\u001b[0m \u001b[32m7.6/7.6 MB\u001b[0m \u001b[31m64.2 MB/s\u001b[0m eta \u001b[36m0:00:00\u001b[0m\n",
            "\u001b[?25hRequirement already satisfied: numpy>=1.17 in /usr/local/lib/python3.8/dist-packages (from transformers==4.26.0.dev0) (1.21.6)\n",
            "Requirement already satisfied: regex!=2019.12.17 in /usr/local/lib/python3.8/dist-packages (from transformers==4.26.0.dev0) (2022.6.2)\n",
            "Requirement already satisfied: tqdm>=4.27 in /usr/local/lib/python3.8/dist-packages (from transformers==4.26.0.dev0) (4.64.1)\n",
            "Requirement already satisfied: packaging>=20.0 in /usr/local/lib/python3.8/dist-packages (from transformers==4.26.0.dev0) (21.3)\n",
            "Requirement already satisfied: typing-extensions>=3.7.4.3 in /usr/local/lib/python3.8/dist-packages (from huggingface-hub<1.0,>=0.10.0->transformers==4.26.0.dev0) (4.4.0)\n",
            "Requirement already satisfied: pyparsing!=3.0.5,>=2.0.2 in /usr/local/lib/python3.8/dist-packages (from packaging>=20.0->transformers==4.26.0.dev0) (3.0.9)\n",
            "Requirement already satisfied: chardet<5,>=3.0.2 in /usr/local/lib/python3.8/dist-packages (from requests->transformers==4.26.0.dev0) (4.0.0)\n",
            "Requirement already satisfied: certifi>=2017.4.17 in /usr/local/lib/python3.8/dist-packages (from requests->transformers==4.26.0.dev0) (2022.12.7)\n",
            "Requirement already satisfied: idna<3,>=2.5 in /usr/local/lib/python3.8/dist-packages (from requests->transformers==4.26.0.dev0) (2.10)\n",
            "Requirement already satisfied: urllib3<1.27,>=1.21.1 in /usr/local/lib/python3.8/dist-packages (from requests->transformers==4.26.0.dev0) (1.24.3)\n",
            "Building wheels for collected packages: transformers\n",
            "  Building wheel for transformers (pyproject.toml) ... \u001b[?25l\u001b[?25hdone\n",
            "  Created wheel for transformers: filename=transformers-4.26.0.dev0-py3-none-any.whl size=6176912 sha256=813521bfea00dd679da11e4588d0c362ee5a48dfc12dafd08c5e3ce906b6f321\n",
            "  Stored in directory: /tmp/pip-ephem-wheel-cache-faqyebmq/wheels/15/57/14/0d2873a0295966ca166ea9d9225761a50cce27e4d6b0341fcc\n",
            "Successfully built transformers\n",
            "Installing collected packages: tokenizers, huggingface-hub, transformers\n",
            "Successfully installed huggingface-hub-0.11.1 tokenizers-0.13.2 transformers-4.26.0.dev0\n",
            "Looking in indexes: https://pypi.org/simple, https://us-python.pkg.dev/colab-wheels/public/simple/\n",
            "Collecting nervaluate\n",
            "  Downloading nervaluate-0.1.8-py3-none-any.whl (24 kB)\n",
            "Installing collected packages: nervaluate\n",
            "Successfully installed nervaluate-0.1.8\n"
          ]
        }
      ]
    },
    {
      "cell_type": "markdown",
      "metadata": {
        "id": "TVay9KamnC3I"
      },
      "source": [
        "## Creating the dataset"
      ]
    },
    {
      "cell_type": "markdown",
      "source": [
        "### loading data"
      ],
      "metadata": {
        "id": "3MiCUyf8RcaN"
      }
    },
    {
      "cell_type": "code",
      "metadata": {
        "id": "hr84ozGinCFh"
      },
      "source": [
        "import pandas as pd\n",
        "import numpy as np\n",
        "from tqdm import tqdm_notebook as tqdm\n"
      ],
      "execution_count": null,
      "outputs": []
    },
    {
      "cell_type": "code",
      "metadata": {
        "id": "qAhZUsL1t694"
      },
      "source": [
        "from collections import Counter\n",
        "import matplotlib.pyplot as plt"
      ],
      "execution_count": null,
      "outputs": []
    },
    {
      "cell_type": "markdown",
      "metadata": {
        "id": "_imv6ooFzWjx"
      },
      "source": [
        "reading the data from its 'txt' file\n"
      ]
    },
    {
      "cell_type": "code",
      "metadata": {
        "id": "lzppkXYyk269",
        "colab": {
          "base_uri": "https://localhost:8080/"
        },
        "outputId": "e1981671-16ac-499b-8ba8-8e067de663cd"
      },
      "source": [
        "import json\n",
        "with open(r\"/content/drive/MyDrive/tahaluf/news_sample_ner.txt\" , 'r') as fb:\n",
        "  data = fb.read()\n",
        "print(len(data), len(data.split()))"
      ],
      "execution_count": null,
      "outputs": [
        {
          "output_type": "stream",
          "name": "stdout",
          "text": [
            "64225 7881\n"
          ]
        }
      ]
    },
    {
      "cell_type": "markdown",
      "metadata": {
        "id": "zM46fCcUtmMO"
      },
      "source": [
        "### EDA on the Data"
      ]
    },
    {
      "cell_type": "markdown",
      "metadata": {
        "id": "YXGy6T5MsuLi"
      },
      "source": [
        "cleaning the data using regex"
      ]
    },
    {
      "cell_type": "code",
      "metadata": {
        "id": "fKhTanHjtuJR",
        "colab": {
          "base_uri": "https://localhost:8080/"
        },
        "outputId": "269a2640-d3a6-455c-8ce5-c925cbf3d424"
      },
      "source": [
        "import re\n",
        "CLEAN_PATTERN = re.compile('<.*?>|&([a-z0-9]+|#[0-9]{1,6}|#x[0-9a-f]{1,6});')\n",
        "\n",
        "raw_data = re.sub(CLEAN_PATTERN, \"\", data)\n",
        "len(raw_data), raw_data[100:500]"
      ],
      "execution_count": null,
      "outputs": [
        {
          "output_type": "execute_result",
          "data": {
            "text/plain": [
              "(42902,\n",
              " \"ATED: daylight hours.\\n\\n\\n   Shortly after Fossett's launching Monday his competitors sent\\nhim telegrams of congratulation.\\n\\n   The British balloon, called the Virgin Global Challenger, is to\\nbe flown by Richard Branson, chairman of Virgin Atlantic Airways;\\nPer Lindstrand, chairman of Lindstrand Balloons Ltd. of Oswestry,\\nEngland, and an Irish balloonist, Rory McCarthy.\\n\\n   Branson and Lindstrand, w\")"
            ]
          },
          "metadata": {},
          "execution_count": 8
        }
      ]
    },
    {
      "cell_type": "markdown",
      "source": [
        "\n",
        "\n",
        "cleaning the text this way will cause the following problems \n",
        "\n",
        "*   now we cannot separate the the text to paragraphs or sentences \n",
        "*   so , we cannot extract the annotation for every sentence/ paragraph\n",
        "*   we have unneccassry metadata for every article that we can consider as noise \n",
        "\n"
      ],
      "metadata": {
        "id": "UkZ3dvNeRlgT"
      }
    },
    {
      "cell_type": "markdown",
      "source": [
        "experiments for extracting the entities "
      ],
      "metadata": {
        "id": "xoRcU4ZIVV5r"
      }
    },
    {
      "cell_type": "code",
      "source": [
        "for matching in re.findall(\"<ENAMEX TYPE=\\\".+?\\\">.+?</ENAMEX>?\", data)[:5]:\n",
        "  # print(matching)\n",
        "  print(re.findall(\"\\\".+\\\"\", matching)[0][1:-1], re.findall(\">.+<\", matching)[0][1:-1])"
      ],
      "metadata": {
        "colab": {
          "base_uri": "https://localhost:8080/"
        },
        "id": "RAMWYUDKYjaa",
        "outputId": "7f5a54f9-ce90-4a37-d599-7ebb9b53a28d"
      },
      "execution_count": null,
      "outputs": [
        {
          "output_type": "stream",
          "name": "stdout",
          "text": [
            "PERSON Fossett\n",
            "ORGANIZATION Virgin\n",
            "PERSON Richard Branson\n",
            "ORGANIZATION Virgin Atlantic Airways\n",
            "PERSON Per Lindstrand\n"
          ]
        }
      ]
    },
    {
      "cell_type": "markdown",
      "source": [
        "making sure to extract entities correctly "
      ],
      "metadata": {
        "id": "Fa1IZrEVSHJT"
      }
    },
    {
      "cell_type": "code",
      "source": [
        "re.findall(\"<ENAMEX TYPE=\\\".+?\\\">.+?</ENAMEX>?\", data) == re.findall(\"<ENAMEX TYPE=\\\".+?\\\">.+?</ENAMEX>*\", data)"
      ],
      "metadata": {
        "id": "D_WM2bDMfO6d",
        "colab": {
          "base_uri": "https://localhost:8080/"
        },
        "outputId": "54736c75-762e-4aee-f536-3a8ddde30a9e"
      },
      "execution_count": null,
      "outputs": [
        {
          "output_type": "execute_result",
          "data": {
            "text/plain": [
              "True"
            ]
          },
          "metadata": {},
          "execution_count": 10
        }
      ]
    },
    {
      "cell_type": "markdown",
      "source": [
        "we cannot split the data on the dots, as we have many subwords that ends with dots inside the sentence "
      ],
      "metadata": {
        "id": "ACOzeaG1UsIc"
      }
    },
    {
      "cell_type": "code",
      "source": [
        "re.findall(\"[A-Z][a-z]+\\.\", data)"
      ],
      "metadata": {
        "colab": {
          "base_uri": "https://localhost:8080/"
        },
        "id": "jNra8o7Kpxmq",
        "outputId": "c732f43e-3526-451a-aad4-3145cfff5118"
      },
      "execution_count": null,
      "outputs": [
        {
          "output_type": "execute_result",
          "data": {
            "text/plain": [
              "['Ltd.',\n",
              " 'Dec.',\n",
              " 'Ariz.',\n",
              " 'Del.',\n",
              " 'Calif.',\n",
              " 'Mo.',\n",
              " 'Mass.',\n",
              " 'Pa.',\n",
              " 'Del.',\n",
              " 'Co.',\n",
              " 'St.',\n",
              " 'Pa.',\n",
              " 'Feb.',\n",
              " 'Co.',\n",
              " 'Dominicans.',\n",
              " 'Corp.',\n",
              " 'Dec.',\n",
              " 'Germans.',\n",
              " 'Gen.',\n",
              " 'Maj.',\n",
              " 'Dominican.',\n",
              " 'Md.',\n",
              " 'Capt.',\n",
              " 'Dec.',\n",
              " 'Inc.',\n",
              " 'Feb.',\n",
              " 'Co.',\n",
              " 'Tomcat.',\n",
              " 'Jan.',\n",
              " 'Feb.',\n",
              " 'Adm.',\n",
              " 'Corp.',\n",
              " 'Feb.',\n",
              " 'Maj.']"
            ]
          },
          "metadata": {},
          "execution_count": 11
        }
      ]
    },
    {
      "cell_type": "markdown",
      "metadata": {
        "id": "fwoardiotD_e"
      },
      "source": [
        "we cannot use dots to seperate the sentences or event the \\n"
      ]
    },
    {
      "cell_type": "code",
      "source": [
        "for s in raw_data.split(\".\")[:50]:print(s,'\\n')"
      ],
      "metadata": {
        "id": "TiTAt8gPnXel"
      },
      "execution_count": null,
      "outputs": []
    },
    {
      "cell_type": "markdown",
      "source": [
        "all the text of the articles is in \\<PREAMBLE\\> and \\<TEXT\\> headers"
      ],
      "metadata": {
        "id": "blWfakZgSVUz"
      }
    },
    {
      "cell_type": "code",
      "source": [
        "body_pattern = re.compile(r\"<PREAMBLE>\")#re.compile(r\"<p>.*\\n*.+\\n*.*\\.<\")\n",
        "re.findall(body_pattern, data)"
      ],
      "metadata": {
        "colab": {
          "base_uri": "https://localhost:8080/"
        },
        "id": "5oRmZ1aAbZHO",
        "outputId": "fd3b59f8-04c6-4db3-cb9d-71003a58fac7"
      },
      "execution_count": null,
      "outputs": [
        {
          "output_type": "execute_result",
          "data": {
            "text/plain": [
              "['<PREAMBLE>',\n",
              " '<PREAMBLE>',\n",
              " '<PREAMBLE>',\n",
              " '<PREAMBLE>',\n",
              " '<PREAMBLE>',\n",
              " '<PREAMBLE>',\n",
              " '<PREAMBLE>',\n",
              " '<PREAMBLE>',\n",
              " '<PREAMBLE>',\n",
              " '<PREAMBLE>']"
            ]
          },
          "metadata": {},
          "execution_count": 44
        }
      ]
    },
    {
      "cell_type": "markdown",
      "source": [
        "### extracting raw text "
      ],
      "metadata": {
        "id": "XAqzd7Aj6Rwy"
      }
    },
    {
      "cell_type": "markdown",
      "source": [
        "sample of the data"
      ],
      "metadata": {
        "id": "aOTZMMeJSlSX"
      }
    },
    {
      "cell_type": "code",
      "source": [
        "data[:300]"
      ],
      "metadata": {
        "colab": {
          "base_uri": "https://localhost:8080/",
          "height": 70
        },
        "id": "kgjkDLCnWRwJ",
        "outputId": "3d37d670-02fd-4a83-bb25-e3cac4b1a3a5"
      },
      "execution_count": null,
      "outputs": [
        {
          "output_type": "execute_result",
          "data": {
            "text/plain": [
              "'<DOC>\\n<DOCID> nyt960108.0493 </DOCID>\\n<STORYID cat=a pri=u> A5852 </STORYID>\\n<SLUG fv=sci-z> BC-BALLOON-RACE-2ndTAKE- </SLUG>\\n<DATE> <TIMEX TYPE=\"DATE\">01-08</TIMEX> </DATE>\\n<NWORDS> 0745 </NWORDS>\\n<PREAMBLE>\\nBC-BALLOON-RACE-2ndTAKE-NYT\\nUNDATED: daylight hours.</PREAMBLE>\\n<TEXT>\\n<p>\\n   Shortly after'"
            ],
            "application/vnd.google.colaboratory.intrinsic+json": {
              "type": "string"
            }
          },
          "metadata": {},
          "execution_count": 45
        }
      ]
    },
    {
      "cell_type": "markdown",
      "source": [
        "the body is between the \\<PREAMBLE\\> and \\<TEXT\\> tags\n",
        "every paragraph is separated with \\<p\\>"
      ],
      "metadata": {
        "id": "Me0cibe96e-b"
      }
    },
    {
      "cell_type": "code",
      "source": [
        "raw_data =[]\n",
        "for body in data.split(\"<PREAMBLE>\"):\n",
        "  if \"</PREAMBLE>\" in body  :\n",
        "    for segment in body.split(\"</PREAMBLE>\"):\n",
        "      if \"<TEXT>\" in segment :\n",
        "        for paragraph in segment.split(\"<p>\"):\n",
        "          raw_data.append(paragraph)\n",
        "      else :\n",
        "        raw_data.append(segment)\n",
        "raw_data[:5]"
      ],
      "metadata": {
        "colab": {
          "base_uri": "https://localhost:8080/"
        },
        "id": "pUzUGiQcr2sR",
        "outputId": "51782514-7545-4b24-a819-7d9a194d2cd8"
      },
      "execution_count": null,
      "outputs": [
        {
          "output_type": "execute_result",
          "data": {
            "text/plain": [
              "['\\nBC-BALLOON-RACE-2ndTAKE-NYT\\nUNDATED: daylight hours.',\n",
              " '\\n<TEXT>\\n',\n",
              " '\\n   Shortly after <ENAMEX TYPE=\"PERSON\">Fossett</ENAMEX>\\'s launching <TIMEX TYPE=\"DATE\">Monday</TIMEX> his competitors sent\\nhim telegrams of congratulation.\\n',\n",
              " '\\n   The British balloon, called the <ENAMEX TYPE=\"ORGANIZATION\">Virgin</ENAMEX> Global Challenger, is to\\nbe flown by <ENAMEX TYPE=\"PERSON\">Richard Branson</ENAMEX>, chairman of <ENAMEX TYPE=\"ORGANIZATION\">Virgin Atlantic Airways</ENAMEX>;\\n<ENAMEX TYPE=\"PERSON\">Per Lindstrand</ENAMEX>, chairman of <ENAMEX TYPE=\"ORGANIZATION\">Lindstrand Balloons Ltd.</ENAMEX> of <ENAMEX TYPE=\"LOCATION\">Oswestry</ENAMEX>,\\n<ENAMEX TYPE=\"LOCATION\">England</ENAMEX>, and an Irish balloonist, <ENAMEX TYPE=\"PERSON\">Rory McCarthy</ENAMEX>.\\n',\n",
              " '\\n   <ENAMEX TYPE=\"PERSON\">Branson</ENAMEX> and <ENAMEX TYPE=\"PERSON\">Lindstrand</ENAMEX>, who have set several ballooning records,\\nwere the first pilots of hot-air balloons to cross both the\\n<ENAMEX TYPE=\"LOCATION\">Atlantic Ocean</ENAMEX>, in <TIMEX TYPE=\"DATE\">1987</TIMEX>, and the <ENAMEX TYPE=\"LOCATION\">Pacific</ENAMEX>, in <TIMEX TYPE=\"DATE\">1991</TIMEX>.\\n']"
            ]
          },
          "metadata": {},
          "execution_count": 9
        }
      ]
    },
    {
      "cell_type": "markdown",
      "source": [
        "saving the raw clean text to a txt file \n",
        "* requirment #1"
      ],
      "metadata": {
        "id": "01Ma1emlSp8t"
      }
    },
    {
      "cell_type": "code",
      "source": [
        "import re\n",
        "def remove_html(text):\n",
        "    html_pattern = re.compile('<.*?>|&([a-z0-9]+|#[0-9]{1,6}|#x[0-9a-f]{1,6});')\n",
        "    return html_pattern.sub(r' ', text)\n",
        "def clean_text(text):\n",
        "  text = remove_html(text)\n",
        "  text = text.replace(\"\\n\", \" \").strip()\n",
        "  return text\n",
        "html_clean_raw_data= []\n",
        "with open(r\"/content/drive/MyDrive/tahaluf/html_free_data.txt\", \"w\") as fp :\n",
        "  for element in raw_data :\n",
        "    clean_element = clean_text(element)\n",
        "    if clean_element!=\"\" :html_clean_raw_data.append(clean_element)\n",
        "    fp.write(html_clean_raw_data[-1]+\"\\n\")\n",
        "len(html_clean_raw_data)"
      ],
      "metadata": {
        "colab": {
          "base_uri": "https://localhost:8080/"
        },
        "id": "LA29BxmZxFkw",
        "outputId": "c13b0d1b-b08a-4c7a-e83a-05e1b529a8f2"
      },
      "execution_count": null,
      "outputs": [
        {
          "output_type": "execute_result",
          "data": {
            "text/plain": [
              "183"
            ]
          },
          "metadata": {},
          "execution_count": 11
        }
      ]
    },
    {
      "cell_type": "markdown",
      "source": [
        "### extracting annotated text"
      ],
      "metadata": {
        "id": "PR_lk5ScTlRQ"
      }
    },
    {
      "cell_type": "markdown",
      "source": [
        "this cell extracts the annotated data for every paragraph in this format \n",
        "```\n",
        "entities': [{'label': 'PER', 'word': 'Henk', 'start': 24, 'end': 28},\n",
        "   {'label': 'PER', 'word': 'Brink', 'start': 29, 'end': 34},\n",
        "   {'label': 'ORG', 'word': 'Unicef', 'start': 75, 'end': 81},\n",
        "   ]\n",
        "```\n",
        "side note : I tried not to split the entity sentence into words but I think this shall be more accurate for the evaluation for example considering `Virgin Atlantic Airways ` as single token with single labels not 3 tokens with 3 labels \n",
        "\n",
        "\n",
        "\n"
      ],
      "metadata": {
        "id": "gp4kAPwRT4NR"
      }
    },
    {
      "cell_type": "code",
      "source": [
        "annotated_data =[]\n",
        "def extract_entities(text, clean_text ):\n",
        "  entities = []\n",
        "  for expression_matching in re.findall(\"<ENAMEX TYPE=\\\".+?\\\">.+?</ENAMEX>?\", text):\n",
        "    entity_sentence =  re.findall(\">.+<\", expression_matching)[0][1:-1]\n",
        "    matches = list(re.finditer(entity_sentence , clean_text))\n",
        "    words = entity_sentence.split() # \n",
        "    label = re.findall(\"\\\".+\\\"\", expression_matching)[0][1:-1][:3]\n",
        "    # label_type =\"B-\"\n",
        "    for matching in matches :\n",
        "      prev_word = \"\"\n",
        "      for word in words : \n",
        "        start = matching.span()[0]+len(prev_word)\n",
        "        # print(start, word)\n",
        "        entity = {\"label\": label , \n",
        "            \"word\":word ,\n",
        "            \"start\" :start  ,\n",
        "            \"end\" : start+len(word)\n",
        "            }\n",
        "        prev_word += word +\" \"\n",
        "        if entity not in entities :\n",
        "          entities.append(entity)\n",
        "  return entities\n",
        "def format_paragraph_entities(segment):\n",
        "  # print(segment)\n",
        "  clean_segment = clean_text(segment)\n",
        "  if clean_segment ==\"\":\n",
        "    return None\n",
        "  return { \n",
        "      \"paragraph\":clean_segment, \n",
        "      \"entities\": extract_entities(segment , clean_segment)\n",
        "  }\n",
        "\n",
        "for segment in raw_data :\n",
        "  annotated_element= format_paragraph_entities(segment)\n",
        "  if annotated_element is not None :  annotated_data.append(annotated_element)\n",
        "  # print(annotated_data[-1])\n",
        "  # print([ annotated_data[-1][\"paragraph\"][x[\"start\"]:x[\"end\"]] for x in annotated_data[-1][\"entities\"]])\n",
        "\n",
        "\n"
      ],
      "metadata": {
        "id": "YHQihl48Toio"
      },
      "execution_count": null,
      "outputs": []
    },
    {
      "cell_type": "code",
      "source": [
        "annotated_data[:20]"
      ],
      "metadata": {
        "colab": {
          "base_uri": "https://localhost:8080/"
        },
        "id": "pL-h59qs3iuE",
        "outputId": "ba6d54d3-7ab0-4f40-88d7-a866c32138fe"
      },
      "execution_count": null,
      "outputs": [
        {
          "output_type": "execute_result",
          "data": {
            "text/plain": [
              "[{'paragraph': 'BC-BALLOON-RACE-2ndTAKE-NYT UNDATED: daylight hours.',\n",
              "  'entities': []},\n",
              " {'paragraph': \"Shortly after  Fossett 's launching  Monday  his competitors sent him telegrams of congratulation.\",\n",
              "  'entities': [{'label': 'PER', 'word': 'Fossett', 'start': 15, 'end': 22}]},\n",
              " {'paragraph': 'The British balloon, called the  Virgin  Global Challenger, is to be flown by  Richard Branson , chairman of  Virgin Atlantic Airways ;  Per Lindstrand , chairman of  Lindstrand Balloons Ltd.  of  Oswestry ,  England , and an Irish balloonist,  Rory McCarthy .',\n",
              "  'entities': [{'label': 'ORG', 'word': 'Virgin', 'start': 33, 'end': 39},\n",
              "   {'label': 'ORG', 'word': 'Virgin', 'start': 110, 'end': 116},\n",
              "   {'label': 'PER', 'word': 'Richard', 'start': 79, 'end': 86},\n",
              "   {'label': 'PER', 'word': 'Branson', 'start': 87, 'end': 94},\n",
              "   {'label': 'ORG', 'word': 'Atlantic', 'start': 117, 'end': 125},\n",
              "   {'label': 'ORG', 'word': 'Airways', 'start': 126, 'end': 133},\n",
              "   {'label': 'PER', 'word': 'Per', 'start': 137, 'end': 140},\n",
              "   {'label': 'PER', 'word': 'Lindstrand', 'start': 141, 'end': 151},\n",
              "   {'label': 'ORG', 'word': 'Lindstrand', 'start': 167, 'end': 177},\n",
              "   {'label': 'ORG', 'word': 'Balloons', 'start': 178, 'end': 186},\n",
              "   {'label': 'ORG', 'word': 'Ltd.', 'start': 187, 'end': 191},\n",
              "   {'label': 'LOC', 'word': 'Oswestry', 'start': 197, 'end': 205},\n",
              "   {'label': 'LOC', 'word': 'England', 'start': 209, 'end': 216},\n",
              "   {'label': 'PER', 'word': 'Rory', 'start': 245, 'end': 249},\n",
              "   {'label': 'PER', 'word': 'McCarthy', 'start': 250, 'end': 258}]},\n",
              " {'paragraph': 'Branson  and  Lindstrand , who have set several ballooning records, were the first pilots of hot-air balloons to cross both the  Atlantic Ocean , in  1987 , and the  Pacific , in  1991 .',\n",
              "  'entities': [{'label': 'PER', 'word': 'Branson', 'start': 0, 'end': 7},\n",
              "   {'label': 'PER', 'word': 'Lindstrand', 'start': 14, 'end': 24},\n",
              "   {'label': 'LOC', 'word': 'Atlantic', 'start': 129, 'end': 137},\n",
              "   {'label': 'LOC', 'word': 'Ocean', 'start': 138, 'end': 143},\n",
              "   {'label': 'LOC', 'word': 'Pacific', 'start': 166, 'end': 173}]},\n",
              " {'paragraph': 'Lindstrand  said that because of unfavorable weather patterns over  England  he and his colleagues had decided to launch their  Virgin  Global Challenger from a military airfield at  Marrakech ,  Morocco .',\n",
              "  'entities': [{'label': 'PER', 'word': 'Lindstrand', 'start': 0, 'end': 10},\n",
              "   {'label': 'LOC', 'word': 'England', 'start': 68, 'end': 75},\n",
              "   {'label': 'ORG', 'word': 'Virgin', 'start': 128, 'end': 134},\n",
              "   {'label': 'LOC', 'word': 'Marrakech', 'start': 183, 'end': 192},\n",
              "   {'label': 'LOC', 'word': 'Morocco', 'start': 196, 'end': 203}]},\n",
              " {'paragraph': 'To move the big crew capsule, balloon and accessories, the British group chartered a Beluga transport plane  &MD;  a modified  Airbus  300 similar to the Pregnant Guppy aircraft used by  NASA  to transport large rocket components. The flight to  Morocco  is scheduled for  Friday , and  Lindstrand  said the balloon launching would probably take place  a day or so later .',\n",
              "  'entities': [{'label': 'ORG', 'word': 'Airbus', 'start': 127, 'end': 133},\n",
              "   {'label': 'ORG', 'word': 'NASA', 'start': 187, 'end': 191},\n",
              "   {'label': 'LOC', 'word': 'Morocco', 'start': 246, 'end': 253},\n",
              "   {'label': 'PER', 'word': 'Lindstrand', 'start': 287, 'end': 297}]},\n",
              " {'paragraph': 'Branson , chairman of the multifaceted  Virgin Group , which includes  Virgin Atlantic Airways , believes that his competitor,  Fossett , faces grave risks.',\n",
              "  'entities': [{'label': 'PER', 'word': 'Branson', 'start': 0, 'end': 7},\n",
              "   {'label': 'ORG', 'word': 'Virgin', 'start': 40, 'end': 46},\n",
              "   {'label': 'ORG', 'word': 'Group', 'start': 47, 'end': 52},\n",
              "   {'label': 'ORG', 'word': 'Virgin', 'start': 71, 'end': 77},\n",
              "   {'label': 'ORG', 'word': 'Atlantic', 'start': 78, 'end': 86},\n",
              "   {'label': 'ORG', 'word': 'Airways', 'start': 87, 'end': 94},\n",
              "   {'label': 'PER', 'word': 'Fossett', 'start': 128, 'end': 135}]},\n",
              " {'paragraph': \"``Because his capsule is not pressurized,''  Branson  said in an interview, `` Steve  will have to stay at around 20,000 feet, which is usually well below the core of the jet stream. That could slow him down a lot. We will be at 30,000 to 35,000 feet, where our chances of riding the high-speed jet stream are much better.\",\n",
              "  'entities': [{'label': 'PER', 'word': 'Branson', 'start': 45, 'end': 52},\n",
              "   {'label': 'PER', 'word': 'Steve', 'start': 79, 'end': 84}]},\n",
              " {'paragraph': \"`` Steve  is incredibly brave, and if anyone should beat us, I'd rather it was he.''\",\n",
              "  'entities': [{'label': 'PER', 'word': 'Steve', 'start': 3, 'end': 8}]},\n",
              " {'paragraph': \"The Dutch team, led by  Henk Brink , recently tested the inflation of its  Unicef  Flyer balloon at  Cape Kennedy  in  NASA 's huge Vehicle Assembly Building, where space shuttles are prepared for flight.  Brink , who intends to launch his balloon from  Nijmegen ,  the Netherlands , is a helicopter instructor and veteran balloonist.\",\n",
              "  'entities': [{'label': 'PER', 'word': 'Henk', 'start': 24, 'end': 28},\n",
              "   {'label': 'PER', 'word': 'Brink', 'start': 29, 'end': 34},\n",
              "   {'label': 'ORG', 'word': 'Unicef', 'start': 75, 'end': 81},\n",
              "   {'label': 'LOC', 'word': 'Cape', 'start': 101, 'end': 105},\n",
              "   {'label': 'LOC', 'word': 'Kennedy', 'start': 106, 'end': 113},\n",
              "   {'label': 'ORG', 'word': 'NASA', 'start': 119, 'end': 123},\n",
              "   {'label': 'PER', 'word': 'Brink', 'start': 206, 'end': 211},\n",
              "   {'label': 'LOC', 'word': 'Nijmegen', 'start': 254, 'end': 262}]},\n",
              " {'paragraph': \"In  1986 , he, his wife,  Evelien , and  William Hageman , a Dutch fighter pilot, became the first European balloonists to cross the  Atlantic ; so precise was their navigation that they landed within a few miles of  Brink 's home in  the Netherlands .\",\n",
              "  'entities': [{'label': 'PER', 'word': 'Evelien', 'start': 26, 'end': 33},\n",
              "   {'label': 'PER', 'word': 'William', 'start': 41, 'end': 48},\n",
              "   {'label': 'PER', 'word': 'Hageman', 'start': 49, 'end': 56},\n",
              "   {'label': 'LOC', 'word': 'Atlantic', 'start': 134, 'end': 142},\n",
              "   {'label': 'PER', 'word': 'Brink', 'start': 217, 'end': 222},\n",
              "   {'label': 'LOC', 'word': 'the', 'start': 235, 'end': 238},\n",
              "   {'label': 'LOC', 'word': 'Netherlands', 'start': 239, 'end': 250}]},\n",
              " {'paragraph': 'Although balloons must travel in the same direction as the wind that carries them along, a pilot can navigate to some extent by changing altitude to seek wind headed in the desired direction. Even a small change in altitude can result in a large change in direction.',\n",
              "  'entities': []},\n",
              " {'paragraph': \"The  Unicef  Flyer flight suffered a setback  Dec. 26  when its third crew member,  Wouter Bakker , resigned from the flight crew ``for personal reasons.''\",\n",
              "  'entities': [{'label': 'ORG', 'word': 'Unicef', 'start': 5, 'end': 11},\n",
              "   {'label': 'PER', 'word': 'Wouter', 'start': 84, 'end': 90},\n",
              "   {'label': 'PER', 'word': 'Bakker', 'start': 91, 'end': 97}]},\n",
              " {'paragraph': 'Days before the expected launching  this week ,  Brink  said in an interview that he had advertised for a replacement, stipulating that the third crew member should be an airline captain.',\n",
              "  'entities': [{'label': 'PER', 'word': 'Brink', 'start': 49, 'end': 54}]},\n",
              " {'paragraph': \"``We're down to three candidates,''  Brink  said  Friday , ``and all of them are completely familiar with our navigation and communication equipment. For the launch and landing, I will do the piloting.''\",\n",
              "  'entities': [{'label': 'PER', 'word': 'Brink', 'start': 37, 'end': 42}]},\n",
              " {'paragraph': 'All three teams are flying Rozier balloons  &MD;  a type that has achieved many long-distance records in recent years.',\n",
              "  'entities': []},\n",
              " {'paragraph': 'A modern Rozier is kept aloft by helium gas, but to add extra lift, the balloon is compartmentalized and the lower part can be filled with hot air from a gas burner. This enables the balloon to maintain altitude at night, when cold air and the lack of sunlight cools the helium and lessens its lifting power.',\n",
              "  'entities': []},\n",
              " {'paragraph': \"Since the first manned balloon flight in  1783  by  Jean Francois Pilatre de Rozier  and the Marquis  Francois Laurent d'Arlandes  in a Montgolfier hot-air balloon, many balloonists have attempted round-the-world flights, but all have failed, and some have died trying.\",\n",
              "  'entities': [{'label': 'PER', 'word': 'Francois', 'start': 102, 'end': 110},\n",
              "   {'label': 'PER', 'word': 'Laurent', 'start': 111, 'end': 118},\n",
              "   {'label': 'PER', 'word': \"d'Arlandes\", 'start': 119, 'end': 129}]},\n",
              " {'paragraph': 'Five unsuccessful attempts were made by a single team led by  Larry Newman  of  Scottsdale ,  Ariz. , in his  Earthwinds  balloon before  Newman  abandoned his efforts  one year ago .',\n",
              "  'entities': [{'label': 'PER', 'word': 'Larry', 'start': 62, 'end': 67},\n",
              "   {'label': 'PER', 'word': 'Newman', 'start': 68, 'end': 74},\n",
              "   {'label': 'LOC', 'word': 'Scottsdale', 'start': 80, 'end': 90},\n",
              "   {'label': 'LOC', 'word': 'Ariz.', 'start': 94, 'end': 99},\n",
              "   {'label': 'ORG', 'word': 'Earthwinds', 'start': 110, 'end': 120},\n",
              "   {'label': 'PER', 'word': 'Newman', 'start': 138, 'end': 144}]},\n",
              " {'paragraph': 'The Rozier balloon is named after its inventor, who was forced to use inflammable hydrogen in his  18th-century  version, since a century was to pass before the discovery of nonflammable helium.  Rozier  was killed in  1785  while trying to cross the  English Channel ; his hydrogen-and-hot-air hybrid balloon caught fire and crashed.',\n",
              "  'entities': [{'label': 'PER', 'word': 'Rozier', 'start': 4, 'end': 10},\n",
              "   {'label': 'PER', 'word': 'Rozier', 'start': 196, 'end': 202}]}]"
            ]
          },
          "metadata": {},
          "execution_count": 47
        }
      ]
    },
    {
      "cell_type": "code",
      "source": [
        "i = 4\n",
        "s , e = annotated_data[i][\"entities\"][0][\"start\"] , annotated_data[i][\"entities\"][0][\"end\"]\n",
        "print(annotated_data[i])\n",
        "annotated_data[i][\"paragraph\"][s:e]\n"
      ],
      "metadata": {
        "colab": {
          "base_uri": "https://localhost:8080/",
          "height": 73
        },
        "id": "cQmDmGUuV-9h",
        "outputId": "7f5fb301-e4a1-47e4-9b4b-602467cdf71e"
      },
      "execution_count": null,
      "outputs": [
        {
          "output_type": "stream",
          "name": "stdout",
          "text": [
            "{'paragraph': 'Lindstrand  said that because of unfavorable weather patterns over  England  he and his colleagues had decided to launch their  Virgin  Global Challenger from a military airfield at  Marrakech ,  Morocco .', 'entities': [{'label': 'PER', 'word': 'Lindstrand', 'start': 0, 'end': 10}, {'label': 'LOC', 'word': 'England', 'start': 68, 'end': 75}, {'label': 'ORG', 'word': 'Virgin', 'start': 128, 'end': 134}, {'label': 'LOC', 'word': 'Marrakech', 'start': 183, 'end': 192}, {'label': 'LOC', 'word': 'Morocco', 'start': 196, 'end': 203}]}\n"
          ]
        },
        {
          "output_type": "execute_result",
          "data": {
            "text/plain": [
              "'Lindstrand'"
            ],
            "application/vnd.google.colaboratory.intrinsic+json": {
              "type": "string"
            }
          },
          "metadata": {},
          "execution_count": 48
        }
      ]
    },
    {
      "cell_type": "markdown",
      "source": [
        "## Transformer based NER"
      ],
      "metadata": {
        "id": "PfgIBJdTTY8A"
      }
    },
    {
      "cell_type": "code",
      "metadata": {
        "id": "MBh0LiSjtyvC",
        "colab": {
          "base_uri": "https://localhost:8080/"
        },
        "outputId": "da157701-b974-4944-9e4e-6400442c0539"
      },
      "source": [
        "from transformers import AutoTokenizer, AutoModelForTokenClassification\n",
        "from transformers import pipeline\n",
        "\n",
        "tokenizer = AutoTokenizer.from_pretrained(\"dslim/bert-base-NER\")\n",
        "model = AutoModelForTokenClassification.from_pretrained(\"dslim/bert-base-NER\")\n",
        "\n",
        "nlp = pipeline(\"ner\", model=model, tokenizer=tokenizer)\n",
        "example = \"My name is Wolfgang and I live in Berlin\"\n",
        "\n",
        "ner_results = nlp(example)\n",
        "print(ner_results)\n"
      ],
      "execution_count": null,
      "outputs": [
        {
          "output_type": "stream",
          "name": "stdout",
          "text": [
            "[{'entity': 'B-PER', 'score': 0.9990139, 'index': 4, 'word': 'Wolfgang', 'start': 11, 'end': 19}, {'entity': 'B-LOC', 'score': 0.999645, 'index': 9, 'word': 'Berlin', 'start': 34, 'end': 40}]\n"
          ]
        }
      ]
    },
    {
      "cell_type": "code",
      "source": [
        "given_tags= [\"PER\" , \"ORG\", \"LOC\"] #[\n",
        "#     \"B-PER\",  \n",
        "#     \"I-PER\",  \n",
        "#     \"B-LOC\" ,\n",
        "#     \"I-LOC\" ,\n",
        "#     \"B-ORG\" ,\n",
        "#     \"I-ORG\" \n",
        "# ]"
      ],
      "metadata": {
        "id": "9fWW4PXUKXV5"
      },
      "execution_count": null,
      "outputs": []
    },
    {
      "cell_type": "markdown",
      "source": [
        "### post processing for formatting the huggingface pipeline output to the same format we formatted the entities above \n",
        "\n",
        "\n",
        "\n",
        "```\n",
        "[{'word': 'British', 'label': 'MISC', 'start': 4, 'end': 11},\n",
        "  {'word': 'Virgin', 'label': 'MISC', 'start': 33, 'end': 39},\n",
        "  {'word': 'Global', 'label': 'MISC', 'start': 41, 'end': 47}]\n",
        "```\n",
        "\n"
      ],
      "metadata": {
        "id": "GT4Q84USUc64"
      }
    },
    {
      "cell_type": "code",
      "source": [
        "def predict_paragraph_transformers(element):\n",
        "  results = nlp(element)\n",
        "  # print(results)\n",
        "  post_processed_results= []\n",
        "  # print(element)\n",
        "  word = \"\"\n",
        "  entity =\"\"\n",
        "  start , end = 0 , 0\n",
        "  for result in results  :\n",
        "\n",
        "    if result[\"word\"][0]== \"#\" :\n",
        "      word += result[\"word\"][2:]\n",
        "      end = start + len(word)\n",
        "    elif word != \"\":\n",
        "\n",
        "        if entity[2:] in given_tags : post_processed_results.append({\n",
        "            \"word\":word ,\n",
        "            \"label\": entity[2:], \n",
        "            \"start\":start, \n",
        "            \"end\": end})\n",
        "        word = result[\"word\"]\n",
        "        entity =result[\"entity\"]\n",
        "        start = result[\"start\"]\n",
        "        end = result[\"end\"]\n",
        "    else :\n",
        "        word = result[\"word\"]\n",
        "        entity =result[\"entity\"]\n",
        "        start = result[\"start\"]\n",
        "        end = result[\"end\"]\n",
        "  if len(results)>1 and entity[2:] in given_tags: post_processed_results.append({\n",
        "            \"word\":word ,\n",
        "            \"label\": entity[2:], \n",
        "            \"start\":start, \n",
        "            \"end\": end})\n",
        "  return post_processed_results#[x for x in post_processed_results if x['label'] in given_tags]\n",
        "predict_paragraph_transformers(annotated_data[2][\"paragraph\"]) , annotated_data[2]"
      ],
      "metadata": {
        "colab": {
          "base_uri": "https://localhost:8080/"
        },
        "id": "3XfuyFaVzyfn",
        "outputId": "a90dcb7c-e205-4c94-896d-4c9494791524"
      },
      "execution_count": null,
      "outputs": [
        {
          "output_type": "execute_result",
          "data": {
            "text/plain": [
              "([{'word': 'Richard', 'label': 'PER', 'start': 79, 'end': 86},\n",
              "  {'word': 'Branson', 'label': 'PER', 'start': 87, 'end': 94},\n",
              "  {'word': 'Virgin', 'label': 'ORG', 'start': 110, 'end': 116},\n",
              "  {'word': 'Atlantic', 'label': 'ORG', 'start': 117, 'end': 125},\n",
              "  {'word': 'Airways', 'label': 'ORG', 'start': 126, 'end': 133},\n",
              "  {'word': 'Per', 'label': 'PER', 'start': 137, 'end': 140},\n",
              "  {'word': 'Lindstrand', 'label': 'PER', 'start': 141, 'end': 151},\n",
              "  {'word': 'Lindstrand', 'label': 'ORG', 'start': 167, 'end': 177},\n",
              "  {'word': 'Balloons', 'label': 'ORG', 'start': 178, 'end': 186},\n",
              "  {'word': 'Ltd', 'label': 'ORG', 'start': 187, 'end': 190},\n",
              "  {'word': 'Oswestry', 'label': 'LOC', 'start': 197, 'end': 205},\n",
              "  {'word': 'England', 'label': 'LOC', 'start': 209, 'end': 216},\n",
              "  {'word': 'Rory', 'label': 'PER', 'start': 245, 'end': 249},\n",
              "  {'word': 'McCarthy', 'label': 'PER', 'start': 250, 'end': 258}],\n",
              " {'paragraph': 'The British balloon, called the  Virgin  Global Challenger, is to be flown by  Richard Branson , chairman of  Virgin Atlantic Airways ;  Per Lindstrand , chairman of  Lindstrand Balloons Ltd.  of  Oswestry ,  England , and an Irish balloonist,  Rory McCarthy .',\n",
              "  'entities': [{'label': 'ORG', 'word': 'Virgin', 'start': 33, 'end': 39},\n",
              "   {'label': 'ORG', 'word': 'Virgin', 'start': 110, 'end': 116},\n",
              "   {'label': 'PER', 'word': 'Richard', 'start': 79, 'end': 86},\n",
              "   {'label': 'PER', 'word': 'Branson', 'start': 87, 'end': 94},\n",
              "   {'label': 'ORG', 'word': 'Atlantic', 'start': 117, 'end': 125},\n",
              "   {'label': 'ORG', 'word': 'Airways', 'start': 126, 'end': 133},\n",
              "   {'label': 'PER', 'word': 'Per', 'start': 137, 'end': 140},\n",
              "   {'label': 'PER', 'word': 'Lindstrand', 'start': 141, 'end': 151},\n",
              "   {'label': 'ORG', 'word': 'Lindstrand', 'start': 167, 'end': 177},\n",
              "   {'label': 'ORG', 'word': 'Balloons', 'start': 178, 'end': 186},\n",
              "   {'label': 'ORG', 'word': 'Ltd.', 'start': 187, 'end': 191},\n",
              "   {'label': 'LOC', 'word': 'Oswestry', 'start': 197, 'end': 205},\n",
              "   {'label': 'LOC', 'word': 'England', 'start': 209, 'end': 216},\n",
              "   {'label': 'PER', 'word': 'Rory', 'start': 245, 'end': 249},\n",
              "   {'label': 'PER', 'word': 'McCarthy', 'start': 250, 'end': 258}],\n",
              "  'stats_predicted_entities': [{'word': 'Richard',\n",
              "    'label': 'PER',\n",
              "    'start': 86},\n",
              "   {'word': 'Branson', 'label': 'PER', 'start': 94},\n",
              "   {'word': 'Virgin', 'label': 'ORG', 'start': 116},\n",
              "   {'word': 'Atlantic', 'label': 'ORG', 'start': 125},\n",
              "   {'word': 'Airways', 'label': 'ORG', 'start': 133},\n",
              "   {'word': 'Lindstrand', 'label': 'ORG', 'start': 177},\n",
              "   {'word': 'Balloons', 'label': 'ORG', 'start': 186},\n",
              "   {'word': 'Ltd.', 'label': 'ORG', 'start': 191},\n",
              "   {'word': 'England', 'label': 'LOC', 'start': 216},\n",
              "   {'word': 'Rory', 'label': 'PER', 'start': 249},\n",
              "   {'word': 'McCarthy', 'label': 'PER', 'start': 258}],\n",
              "  'predicted_entities': []})"
            ]
          },
          "metadata": {},
          "execution_count": 75
        }
      ]
    },
    {
      "cell_type": "markdown",
      "source": [
        "### now we ready to parse/predict all the paragraphs we have "
      ],
      "metadata": {
        "id": "_kODDVFDUzme"
      }
    },
    {
      "cell_type": "code",
      "source": [
        "for idx , paragraph in enumerate(annotated_data) :\n",
        "  annotated_data[idx][\"predicted_entities\"] = predict_paragraph_transformers(paragraph[\"paragraph\"])"
      ],
      "metadata": {
        "id": "RREAjpeVJuwk"
      },
      "execution_count": null,
      "outputs": []
    },
    {
      "cell_type": "markdown",
      "source": [
        "## Transformer Evaluation \n",
        "using https://github.com/MantisAI/nervaluate\n",
        "for producing more detailed classification report "
      ],
      "metadata": {
        "id": "GZomXB6PVfKD"
      }
    },
    {
      "cell_type": "code",
      "source": [
        "true = [x[\"entities\"] for x in annotated_data]\n",
        "pred = [x[\"predicted_entities\"] for x in annotated_data]\n",
        "from nervaluate import Evaluator\n",
        "\n",
        "evaluator = Evaluator(true, pred, tags=given_tags)\n",
        "\n",
        "# Returns overall metrics and metrics for each tag\n",
        "\n",
        "results, results_per_tag = evaluator.evaluate()\n",
        "\n",
        "results"
      ],
      "metadata": {
        "colab": {
          "base_uri": "https://localhost:8080/"
        },
        "id": "za1XWzTdLgTY",
        "outputId": "fefd9ee6-04fb-433c-e94e-ef7256bed357"
      },
      "execution_count": null,
      "outputs": [
        {
          "output_type": "execute_result",
          "data": {
            "text/plain": [
              "{'ent_type': {'correct': 545,\n",
              "  'incorrect': 30,\n",
              "  'partial': 0,\n",
              "  'missed': 84,\n",
              "  'spurious': 147,\n",
              "  'possible': 659,\n",
              "  'actual': 722,\n",
              "  'precision': 0.7548476454293629,\n",
              "  'recall': 0.8270106221547799,\n",
              "  'f1': 0.7892831281679942},\n",
              " 'partial': {'correct': 517,\n",
              "  'incorrect': 0,\n",
              "  'partial': 58,\n",
              "  'missed': 84,\n",
              "  'spurious': 147,\n",
              "  'possible': 659,\n",
              "  'actual': 722,\n",
              "  'precision': 0.7562326869806094,\n",
              "  'recall': 0.8285280728376327,\n",
              "  'f1': 0.7907313540912382},\n",
              " 'strict': {'correct': 502,\n",
              "  'incorrect': 73,\n",
              "  'partial': 0,\n",
              "  'missed': 84,\n",
              "  'spurious': 147,\n",
              "  'possible': 659,\n",
              "  'actual': 722,\n",
              "  'precision': 0.6952908587257618,\n",
              "  'recall': 0.7617602427921093,\n",
              "  'f1': 0.7270094134685011},\n",
              " 'exact': {'correct': 517,\n",
              "  'incorrect': 58,\n",
              "  'partial': 0,\n",
              "  'missed': 84,\n",
              "  'spurious': 147,\n",
              "  'possible': 659,\n",
              "  'actual': 722,\n",
              "  'precision': 0.7160664819944599,\n",
              "  'recall': 0.7845220030349014,\n",
              "  'f1': 0.7487328023171615}}"
            ]
          },
          "metadata": {},
          "execution_count": 77
        }
      ]
    },
    {
      "cell_type": "markdown",
      "source": [
        "#### results for the experiment before splitting entity to its separate words \n",
        "for example considering an entity like `john smith` as single entity and single token not two tokens/words "
      ],
      "metadata": {
        "id": "_cUNbIEvU8B2"
      }
    },
    {
      "cell_type": "markdown",
      "source": [
        "{'ent_type': {'correct': 46,\n",
        "  'incorrect': 0,\n",
        "  'partial': 0,\n",
        "  'missed': 7,\n",
        "  'spurious': 7,\n",
        "  'possible': 53,\n",
        "  'actual': 53,\n",
        "  'precision': 0.8679245283018868,\n",
        "  'recall': 0.8679245283018868,\n",
        "  'f1': 0.8679245283018869},\n",
        " 'partial': {'correct': 37,\n",
        "  'incorrect': 0,\n",
        "  'partial': 9,\n",
        "  'missed': 7,\n",
        "  'spurious': 7,\n",
        "  'possible': 53,\n",
        "  'actual': 53,\n",
        "  'precision': 0.7830188679245284,\n",
        "  'recall': 0.7830188679245284,\n",
        "  'f1': 0.7830188679245284},\n",
        " 'strict': {'correct': 37,\n",
        "  'incorrect': 9,\n",
        "  'partial': 0,\n",
        "  'missed': 7,\n",
        "  'spurious': 7,\n",
        "  'possible': 53,\n",
        "  'actual': 53,\n",
        "  'precision': 0.6981132075471698,\n",
        "  'recall': 0.6981132075471698,\n",
        "  'f1': 0.6981132075471698},\n",
        " 'exact': {'correct': 37,\n",
        "  'incorrect': 9,\n",
        "  'partial': 0,\n",
        "  'missed': 7,\n",
        "  'spurious': 7,\n",
        "  'possible': 53,\n",
        "  'actual': 53,\n",
        "  'precision': 0.6981132075471698,\n",
        "  'recall': 0.6981132075471698,\n",
        "  'f1': 0.6981132075471698}}"
      ],
      "metadata": {
        "id": "rlXimLqyEPUo"
      }
    },
    {
      "cell_type": "markdown",
      "source": [
        "### results per tag"
      ],
      "metadata": {
        "id": "ajFql_xXVby6"
      }
    },
    {
      "cell_type": "code",
      "source": [
        "results_per_tag"
      ],
      "metadata": {
        "colab": {
          "base_uri": "https://localhost:8080/"
        },
        "id": "bpvY27CuNLoa",
        "outputId": "2f17cde7-8e30-4955-b9c8-06abdc66bd5e"
      },
      "execution_count": null,
      "outputs": [
        {
          "output_type": "execute_result",
          "data": {
            "text/plain": [
              "{'PER': {'ent_type': {'correct': 120,\n",
              "   'incorrect': 10,\n",
              "   'partial': 0,\n",
              "   'missed': 24,\n",
              "   'spurious': 16,\n",
              "   'possible': 154,\n",
              "   'actual': 146,\n",
              "   'precision': 0.821917808219178,\n",
              "   'recall': 0.7792207792207793,\n",
              "   'f1': 0.7999999999999999},\n",
              "  'partial': {'correct': 110,\n",
              "   'incorrect': 0,\n",
              "   'partial': 20,\n",
              "   'missed': 24,\n",
              "   'spurious': 16,\n",
              "   'possible': 154,\n",
              "   'actual': 146,\n",
              "   'precision': 0.821917808219178,\n",
              "   'recall': 0.7792207792207793,\n",
              "   'f1': 0.7999999999999999},\n",
              "  'strict': {'correct': 109,\n",
              "   'incorrect': 21,\n",
              "   'partial': 0,\n",
              "   'missed': 24,\n",
              "   'spurious': 16,\n",
              "   'possible': 154,\n",
              "   'actual': 146,\n",
              "   'precision': 0.7465753424657534,\n",
              "   'recall': 0.7077922077922078,\n",
              "   'f1': 0.7266666666666666},\n",
              "  'exact': {'correct': 110,\n",
              "   'incorrect': 20,\n",
              "   'partial': 0,\n",
              "   'missed': 24,\n",
              "   'spurious': 16,\n",
              "   'possible': 154,\n",
              "   'actual': 146,\n",
              "   'precision': 0.7534246575342466,\n",
              "   'recall': 0.7142857142857143,\n",
              "   'f1': 0.7333333333333334}},\n",
              " 'ORG': {'ent_type': {'correct': 236,\n",
              "   'incorrect': 10,\n",
              "   'partial': 0,\n",
              "   'missed': 48,\n",
              "   'spurious': 89,\n",
              "   'possible': 294,\n",
              "   'actual': 335,\n",
              "   'precision': 0.7044776119402985,\n",
              "   'recall': 0.8027210884353742,\n",
              "   'f1': 0.7503974562798092},\n",
              "  'partial': {'correct': 228,\n",
              "   'incorrect': 0,\n",
              "   'partial': 18,\n",
              "   'missed': 48,\n",
              "   'spurious': 89,\n",
              "   'possible': 294,\n",
              "   'actual': 335,\n",
              "   'precision': 0.7074626865671642,\n",
              "   'recall': 0.8061224489795918,\n",
              "   'f1': 0.753577106518283},\n",
              "  'strict': {'correct': 222,\n",
              "   'incorrect': 24,\n",
              "   'partial': 0,\n",
              "   'missed': 48,\n",
              "   'spurious': 89,\n",
              "   'possible': 294,\n",
              "   'actual': 335,\n",
              "   'precision': 0.6626865671641791,\n",
              "   'recall': 0.7551020408163265,\n",
              "   'f1': 0.7058823529411764},\n",
              "  'exact': {'correct': 228,\n",
              "   'incorrect': 18,\n",
              "   'partial': 0,\n",
              "   'missed': 48,\n",
              "   'spurious': 89,\n",
              "   'possible': 294,\n",
              "   'actual': 335,\n",
              "   'precision': 0.6805970149253732,\n",
              "   'recall': 0.7755102040816326,\n",
              "   'f1': 0.7249602543720192}},\n",
              " 'LOC': {'ent_type': {'correct': 189,\n",
              "   'incorrect': 10,\n",
              "   'partial': 0,\n",
              "   'missed': 12,\n",
              "   'spurious': 42,\n",
              "   'possible': 211,\n",
              "   'actual': 241,\n",
              "   'precision': 0.7842323651452282,\n",
              "   'recall': 0.8957345971563981,\n",
              "   'f1': 0.836283185840708},\n",
              "  'partial': {'correct': 179,\n",
              "   'incorrect': 0,\n",
              "   'partial': 20,\n",
              "   'missed': 12,\n",
              "   'spurious': 42,\n",
              "   'possible': 211,\n",
              "   'actual': 241,\n",
              "   'precision': 0.7842323651452282,\n",
              "   'recall': 0.8957345971563981,\n",
              "   'f1': 0.836283185840708},\n",
              "  'strict': {'correct': 171,\n",
              "   'incorrect': 28,\n",
              "   'partial': 0,\n",
              "   'missed': 12,\n",
              "   'spurious': 42,\n",
              "   'possible': 211,\n",
              "   'actual': 241,\n",
              "   'precision': 0.7095435684647303,\n",
              "   'recall': 0.8104265402843602,\n",
              "   'f1': 0.756637168141593},\n",
              "  'exact': {'correct': 179,\n",
              "   'incorrect': 20,\n",
              "   'partial': 0,\n",
              "   'missed': 12,\n",
              "   'spurious': 42,\n",
              "   'possible': 211,\n",
              "   'actual': 241,\n",
              "   'precision': 0.7427385892116183,\n",
              "   'recall': 0.8483412322274881,\n",
              "   'f1': 0.7920353982300885}}}"
            ]
          },
          "metadata": {},
          "execution_count": 78
        }
      ]
    },
    {
      "cell_type": "markdown",
      "source": [
        "#### results per tag also without splitting "
      ],
      "metadata": {
        "id": "S3-8zIr7VTBi"
      }
    },
    {
      "cell_type": "markdown",
      "source": [
        "{'PERSON': {'ent_type': {'correct': 24,\n",
        "   'incorrect': 0,\n",
        "   'partial': 0,\n",
        "   'missed': 2,\n",
        "   'spurious': 3,\n",
        "   'possible': 26,\n",
        "   'actual': 27,\n",
        "   'precision': 0.8888888888888888,\n",
        "   'recall': 0.9230769230769231,\n",
        "   'f1': 0.9056603773584906},\n",
        "  'partial': {'correct': 20,\n",
        "   'incorrect': 0,\n",
        "   'partial': 4,\n",
        "   'missed': 2,\n",
        "   'spurious': 3,\n",
        "   'possible': 26,\n",
        "   'actual': 27,\n",
        "   'precision': 0.8148148148148148,\n",
        "   'recall': 0.8461538461538461,\n",
        "   'f1': 0.830188679245283},\n",
        "  'strict': {'correct': 20,\n",
        "   'incorrect': 4,\n",
        "   'partial': 0,\n",
        "   'missed': 2,\n",
        "   'spurious': 3,\n",
        "   'possible': 26,\n",
        "   'actual': 27,\n",
        "   'precision': 0.7407407407407407,\n",
        "   'recall': 0.7692307692307693,\n",
        "   'f1': 0.7547169811320754},\n",
        "  'exact': {'correct': 20,\n",
        "   'incorrect': 4,\n",
        "   'partial': 0,\n",
        "   'missed': 2,\n",
        "   'spurious': 3,\n",
        "   'possible': 26,\n",
        "   'actual': 27,\n",
        "   'precision': 0.7407407407407407,\n",
        "   'recall': 0.7692307692307693,\n",
        "   'f1': 0.7547169811320754}},\n",
        " 'LOCATION': {'ent_type': {'correct': 14,\n",
        "   'incorrect': 0,\n",
        "   'partial': 0,\n",
        "   'missed': 0,\n",
        "   'spurious': 3,\n",
        "   'possible': 14,\n",
        "   'actual': 17,\n",
        "   'precision': 0.8235294117647058,\n",
        "   'recall': 1.0,\n",
        "   'f1': 0.9032258064516129},\n",
        "  'partial': {'correct': 12,\n",
        "   'incorrect': 0,\n",
        "   'partial': 2,\n",
        "   'missed': 0,\n",
        "   'spurious': 3,\n",
        "   'possible': 14,\n",
        "   'actual': 17,\n",
        "   'precision': 0.7647058823529411,\n",
        "   'recall': 0.9285714285714286,\n",
        "   'f1': 0.8387096774193549},\n",
        "  'strict': {'correct': 12,\n",
        "   'incorrect': 2,\n",
        "   'partial': 0,\n",
        "   'missed': 0,\n",
        "   'spurious': 3,\n",
        "   'possible': 14,\n",
        "   'actual': 17,\n",
        "   'precision': 0.7058823529411765,\n",
        "   'recall': 0.8571428571428571,\n",
        "   'f1': 0.7741935483870968},\n",
        "  'exact': {'correct': 12,\n",
        "   'incorrect': 2,\n",
        "   'partial': 0,\n",
        "   'missed': 0,\n",
        "   'spurious': 3,\n",
        "   'possible': 14,\n",
        "   'actual': 17,\n",
        "   'precision': 0.7058823529411765,\n",
        "   'recall': 0.8571428571428571,\n",
        "   'f1': 0.7741935483870968}},\n",
        " 'ORGANIZATION': {'ent_type': {'correct': 8,\n",
        "   'incorrect': 0,\n",
        "   'partial': 0,\n",
        "   'missed': 5,\n",
        "   'spurious': 1,\n",
        "   'possible': 13,\n",
        "   'actual': 9,\n",
        "   'precision': 0.8888888888888888,\n",
        "   'recall': 0.6153846153846154,\n",
        "   'f1': 0.7272727272727274},\n",
        "  'partial': {'correct': 5,\n",
        "   'incorrect': 0,\n",
        "   'partial': 3,\n",
        "   'missed': 5,\n",
        "   'spurious': 1,\n",
        "   'possible': 13,\n",
        "   'actual': 9,\n",
        "   'precision': 0.7222222222222222,\n",
        "   'recall': 0.5,\n",
        "   'f1': 0.5909090909090908},\n",
        "  'strict': {'correct': 5,\n",
        "   'incorrect': 3,\n",
        "   'partial': 0,\n",
        "   'missed': 5,\n",
        "   'spurious': 1,\n",
        "   'possible': 13,\n",
        "   'actual': 9,\n",
        "   'precision': 0.5555555555555556,\n",
        "   'recall': 0.38461538461538464,\n",
        "   'f1': 0.4545454545454546},\n",
        "  'exact': {'correct': 5,\n",
        "   'incorrect': 3,\n",
        "   'partial': 0,\n",
        "   'missed': 5,\n",
        "   'spurious': 1,\n",
        "   'possible': 13,\n",
        "   'actual': 9,\n",
        "   'precision': 0.5555555555555556,\n",
        "   'recall': 0.38461538461538464,\n",
        "   'f1': 0.4545454545454546}}}"
      ],
      "metadata": {
        "id": "aWNYT6_RVRZR"
      }
    },
    {
      "cell_type": "code",
      "source": [],
      "metadata": {
        "id": "QW-VZXkxVSJ7"
      },
      "execution_count": null,
      "outputs": []
    },
    {
      "cell_type": "markdown",
      "source": [
        "## Statistical Models Based NER "
      ],
      "metadata": {
        "id": "K7Q4qpwoV_EJ"
      }
    },
    {
      "cell_type": "code",
      "source": [
        "import spacy\n",
        "\n",
        "statistical_nlp = spacy.load(\"en_core_web_sm\")\n",
        "doc = statistical_nlp(annotated_data[2][\"paragraph\"])\n",
        "\n",
        "for ent in doc.ents:\n",
        "    print(ent.text, ent.start_char, ent.end_char, ent.label_)\n",
        "annotated_data[2]['entities']"
      ],
      "metadata": {
        "colab": {
          "base_uri": "https://localhost:8080/"
        },
        "id": "4BZDwFl7XO5J",
        "outputId": "2714f72c-9011-4258-fc57-ac6c3f3e8e2f"
      },
      "execution_count": null,
      "outputs": [
        {
          "output_type": "stream",
          "name": "stdout",
          "text": [
            "British 4 11 NORP\n",
            "Richard Branson 79 94 PERSON\n",
            "Virgin Atlantic Airways 110 133 ORG\n",
            "Lindstrand 141 151 FAC\n",
            "Lindstrand Balloons Ltd. 167 191 ORG\n",
            "England 209 216 GPE\n",
            "Irish 226 231 NORP\n",
            "Rory McCarthy 245 258 PERSON\n"
          ]
        },
        {
          "output_type": "execute_result",
          "data": {
            "text/plain": [
              "[{'label': 'ORG', 'word': 'Virgin', 'start': 33, 'end': 39},\n",
              " {'label': 'ORG', 'word': 'Virgin', 'start': 110, 'end': 116},\n",
              " {'label': 'PER', 'word': 'Richard', 'start': 79, 'end': 86},\n",
              " {'label': 'PER', 'word': 'Branson', 'start': 87, 'end': 94},\n",
              " {'label': 'ORG', 'word': 'Atlantic', 'start': 117, 'end': 125},\n",
              " {'label': 'ORG', 'word': 'Airways', 'start': 126, 'end': 133},\n",
              " {'label': 'PER', 'word': 'Per', 'start': 137, 'end': 140},\n",
              " {'label': 'PER', 'word': 'Lindstrand', 'start': 141, 'end': 151},\n",
              " {'label': 'ORG', 'word': 'Lindstrand', 'start': 167, 'end': 177},\n",
              " {'label': 'ORG', 'word': 'Balloons', 'start': 178, 'end': 186},\n",
              " {'label': 'ORG', 'word': 'Ltd.', 'start': 187, 'end': 191},\n",
              " {'label': 'LOC', 'word': 'Oswestry', 'start': 197, 'end': 205},\n",
              " {'label': 'LOC', 'word': 'England', 'start': 209, 'end': 216},\n",
              " {'label': 'PER', 'word': 'Rory', 'start': 245, 'end': 249},\n",
              " {'label': 'PER', 'word': 'McCarthy', 'start': 250, 'end': 258}]"
            ]
          },
          "metadata": {},
          "execution_count": 60
        }
      ]
    },
    {
      "cell_type": "code",
      "source": [
        "map_tags ={\n",
        "    \"GPE\": \"LOC\",\n",
        "    \"PERSON\" :\"PER\"\n",
        "}"
      ],
      "metadata": {
        "id": "Sl4XeL4SZXUj"
      },
      "execution_count": null,
      "outputs": []
    },
    {
      "cell_type": "markdown",
      "source": [
        "format for the same format we decided to use "
      ],
      "metadata": {
        "id": "FTvApNZxe6xz"
      }
    },
    {
      "cell_type": "code",
      "source": [
        "for idx , element in enumerate(annotated_data) :\n",
        "  entities =[]\n",
        "  for ent in statistical_nlp(element['paragraph']).ents :\n",
        "    prev = \"\"\n",
        "    entity = ent.label_\n",
        "    if entity in map_tags : entity = map_tags[ent.label_]\n",
        "    for word in ent.text.split(): \n",
        "      if entity in given_tags :entities.append({\n",
        "          \"word\" : word , \n",
        "          \"label\" : entity , \n",
        "          \"start\" : ent.start_char + len(prev),\n",
        "          \"end\" : ent.start_char + len(prev) + len(word)\n",
        "      })    \n",
        "      prev += word + \" \"\n",
        "  annotated_data[idx][\"stats_predicted_entities\"]= entities\n"
      ],
      "metadata": {
        "id": "nf1TJVdzXe_Y"
      },
      "execution_count": null,
      "outputs": []
    },
    {
      "cell_type": "code",
      "source": [
        "annotated_data[2]"
      ],
      "metadata": {
        "colab": {
          "base_uri": "https://localhost:8080/"
        },
        "id": "9bh3nzO8bUBa",
        "outputId": "aa8bee14-76f3-4069-f4c1-5fb1c0ae6ef5"
      },
      "execution_count": null,
      "outputs": [
        {
          "output_type": "execute_result",
          "data": {
            "text/plain": [
              "{'paragraph': 'The British balloon, called the  Virgin  Global Challenger, is to be flown by  Richard Branson , chairman of  Virgin Atlantic Airways ;  Per Lindstrand , chairman of  Lindstrand Balloons Ltd.  of  Oswestry ,  England , and an Irish balloonist,  Rory McCarthy .',\n",
              " 'entities': [{'label': 'ORG', 'word': 'Virgin', 'start': 33, 'end': 39},\n",
              "  {'label': 'ORG', 'word': 'Virgin', 'start': 110, 'end': 116},\n",
              "  {'label': 'PER', 'word': 'Richard', 'start': 79, 'end': 86},\n",
              "  {'label': 'PER', 'word': 'Branson', 'start': 87, 'end': 94},\n",
              "  {'label': 'ORG', 'word': 'Atlantic', 'start': 117, 'end': 125},\n",
              "  {'label': 'ORG', 'word': 'Airways', 'start': 126, 'end': 133},\n",
              "  {'label': 'PER', 'word': 'Per', 'start': 137, 'end': 140},\n",
              "  {'label': 'PER', 'word': 'Lindstrand', 'start': 141, 'end': 151},\n",
              "  {'label': 'ORG', 'word': 'Lindstrand', 'start': 167, 'end': 177},\n",
              "  {'label': 'ORG', 'word': 'Balloons', 'start': 178, 'end': 186},\n",
              "  {'label': 'ORG', 'word': 'Ltd.', 'start': 187, 'end': 191},\n",
              "  {'label': 'LOC', 'word': 'Oswestry', 'start': 197, 'end': 205},\n",
              "  {'label': 'LOC', 'word': 'England', 'start': 209, 'end': 216},\n",
              "  {'label': 'PER', 'word': 'Rory', 'start': 245, 'end': 249},\n",
              "  {'label': 'PER', 'word': 'McCarthy', 'start': 250, 'end': 258}],\n",
              " 'stats_predicted_entities': [{'word': 'Richard', 'label': 'PER', 'start': 86},\n",
              "  {'word': 'Branson', 'label': 'PER', 'start': 94},\n",
              "  {'word': 'Virgin', 'label': 'ORG', 'start': 116},\n",
              "  {'word': 'Atlantic', 'label': 'ORG', 'start': 125},\n",
              "  {'word': 'Airways', 'label': 'ORG', 'start': 133},\n",
              "  {'word': 'Lindstrand', 'label': 'ORG', 'start': 177},\n",
              "  {'word': 'Balloons', 'label': 'ORG', 'start': 186},\n",
              "  {'word': 'Ltd.', 'label': 'ORG', 'start': 191},\n",
              "  {'word': 'England', 'label': 'LOC', 'start': 216},\n",
              "  {'word': 'Rory', 'label': 'PER', 'start': 249},\n",
              "  {'word': 'McCarthy', 'label': 'PER', 'start': 258}],\n",
              " 'predicted_entities': [{'word': 'Richard',\n",
              "   'label': 'PER',\n",
              "   'start': 79,\n",
              "   'end': 86},\n",
              "  {'word': 'Branson', 'label': 'PER', 'start': 87, 'end': 94},\n",
              "  {'word': 'Virgin', 'label': 'ORG', 'start': 110, 'end': 116},\n",
              "  {'word': 'Atlantic', 'label': 'ORG', 'start': 117, 'end': 125},\n",
              "  {'word': 'Airways', 'label': 'ORG', 'start': 126, 'end': 133},\n",
              "  {'word': 'Per', 'label': 'PER', 'start': 137, 'end': 140},\n",
              "  {'word': 'Lindstrand', 'label': 'PER', 'start': 141, 'end': 151},\n",
              "  {'word': 'Lindstrand', 'label': 'ORG', 'start': 167, 'end': 177},\n",
              "  {'word': 'Balloons', 'label': 'ORG', 'start': 178, 'end': 186},\n",
              "  {'word': 'Ltd', 'label': 'ORG', 'start': 187, 'end': 190},\n",
              "  {'word': 'Oswestry', 'label': 'LOC', 'start': 197, 'end': 205},\n",
              "  {'word': 'England', 'label': 'LOC', 'start': 209, 'end': 216},\n",
              "  {'word': 'Rory', 'label': 'PER', 'start': 245, 'end': 249},\n",
              "  {'word': 'McCarthy', 'label': 'PER', 'start': 250, 'end': 258}]}"
            ]
          },
          "metadata": {},
          "execution_count": 80
        }
      ]
    },
    {
      "cell_type": "markdown",
      "source": [
        "## Statistical Method Evaluation"
      ],
      "metadata": {
        "id": "I7NGdY_ae_fk"
      }
    },
    {
      "cell_type": "code",
      "source": [
        "stat_pred = [x[\"stats_predicted_entities\"] for x in annotated_data]\n",
        "\n",
        "evaluator = Evaluator(true, stat_pred, tags=given_tags)\n",
        "\n",
        "# Returns overall metrics and metrics for each tag\n",
        "\n",
        "results, results_per_tag = evaluator.evaluate()\n",
        "\n",
        "results"
      ],
      "metadata": {
        "colab": {
          "base_uri": "https://localhost:8080/"
        },
        "id": "jsA0__uMbiRn",
        "outputId": "d202dcd7-dbd2-4e84-c479-d267919eb552"
      },
      "execution_count": null,
      "outputs": [
        {
          "output_type": "execute_result",
          "data": {
            "text/plain": [
              "{'ent_type': {'correct': 541,\n",
              "  'incorrect': 51,\n",
              "  'partial': 0,\n",
              "  'missed': 67,\n",
              "  'spurious': 125,\n",
              "  'possible': 659,\n",
              "  'actual': 717,\n",
              "  'precision': 0.7545327754532776,\n",
              "  'recall': 0.8209408194233687,\n",
              "  'f1': 0.7863372093023256},\n",
              " 'partial': {'correct': 561,\n",
              "  'incorrect': 0,\n",
              "  'partial': 31,\n",
              "  'missed': 67,\n",
              "  'spurious': 125,\n",
              "  'possible': 659,\n",
              "  'actual': 717,\n",
              "  'precision': 0.8040446304044631,\n",
              "  'recall': 0.8748103186646434,\n",
              "  'f1': 0.8379360465116279},\n",
              " 'strict': {'correct': 511,\n",
              "  'incorrect': 81,\n",
              "  'partial': 0,\n",
              "  'missed': 67,\n",
              "  'spurious': 125,\n",
              "  'possible': 659,\n",
              "  'actual': 717,\n",
              "  'precision': 0.7126917712691772,\n",
              "  'recall': 0.7754172989377845,\n",
              "  'f1': 0.7427325581395349},\n",
              " 'exact': {'correct': 561,\n",
              "  'incorrect': 31,\n",
              "  'partial': 0,\n",
              "  'missed': 67,\n",
              "  'spurious': 125,\n",
              "  'possible': 659,\n",
              "  'actual': 717,\n",
              "  'precision': 0.7824267782426778,\n",
              "  'recall': 0.8512898330804249,\n",
              "  'f1': 0.815406976744186}}"
            ]
          },
          "metadata": {},
          "execution_count": 83
        }
      ]
    },
    {
      "cell_type": "code",
      "source": [
        "results_per_tag"
      ],
      "metadata": {
        "colab": {
          "base_uri": "https://localhost:8080/"
        },
        "id": "0KeoaAvodESp",
        "outputId": "badb1489-adb5-4c96-8924-fca6431fd026"
      },
      "execution_count": null,
      "outputs": [
        {
          "output_type": "execute_result",
          "data": {
            "text/plain": [
              "{'PER': {'ent_type': {'correct': 115,\n",
              "   'incorrect': 21,\n",
              "   'partial': 0,\n",
              "   'missed': 18,\n",
              "   'spurious': 27,\n",
              "   'possible': 154,\n",
              "   'actual': 163,\n",
              "   'precision': 0.7055214723926381,\n",
              "   'recall': 0.7467532467532467,\n",
              "   'f1': 0.7255520504731863},\n",
              "  'partial': {'correct': 135,\n",
              "   'incorrect': 0,\n",
              "   'partial': 1,\n",
              "   'missed': 18,\n",
              "   'spurious': 27,\n",
              "   'possible': 154,\n",
              "   'actual': 163,\n",
              "   'precision': 0.8312883435582822,\n",
              "   'recall': 0.8798701298701299,\n",
              "   'f1': 0.8548895899053627},\n",
              "  'strict': {'correct': 115,\n",
              "   'incorrect': 21,\n",
              "   'partial': 0,\n",
              "   'missed': 18,\n",
              "   'spurious': 27,\n",
              "   'possible': 154,\n",
              "   'actual': 163,\n",
              "   'precision': 0.7055214723926381,\n",
              "   'recall': 0.7467532467532467,\n",
              "   'f1': 0.7255520504731863},\n",
              "  'exact': {'correct': 135,\n",
              "   'incorrect': 1,\n",
              "   'partial': 0,\n",
              "   'missed': 18,\n",
              "   'spurious': 27,\n",
              "   'possible': 154,\n",
              "   'actual': 163,\n",
              "   'precision': 0.8282208588957055,\n",
              "   'recall': 0.8766233766233766,\n",
              "   'f1': 0.8517350157728707}},\n",
              " 'ORG': {'ent_type': {'correct': 259,\n",
              "   'incorrect': 7,\n",
              "   'partial': 0,\n",
              "   'missed': 28,\n",
              "   'spurious': 87,\n",
              "   'possible': 294,\n",
              "   'actual': 353,\n",
              "   'precision': 0.7337110481586402,\n",
              "   'recall': 0.8809523809523809,\n",
              "   'f1': 0.8006182380216383},\n",
              "  'partial': {'correct': 236,\n",
              "   'incorrect': 0,\n",
              "   'partial': 30,\n",
              "   'missed': 28,\n",
              "   'spurious': 87,\n",
              "   'possible': 294,\n",
              "   'actual': 353,\n",
              "   'precision': 0.7110481586402266,\n",
              "   'recall': 0.8537414965986394,\n",
              "   'f1': 0.7758887171561052},\n",
              "  'strict': {'correct': 229,\n",
              "   'incorrect': 37,\n",
              "   'partial': 0,\n",
              "   'missed': 28,\n",
              "   'spurious': 87,\n",
              "   'possible': 294,\n",
              "   'actual': 353,\n",
              "   'precision': 0.6487252124645893,\n",
              "   'recall': 0.7789115646258503,\n",
              "   'f1': 0.7078825347758887},\n",
              "  'exact': {'correct': 236,\n",
              "   'incorrect': 30,\n",
              "   'partial': 0,\n",
              "   'missed': 28,\n",
              "   'spurious': 87,\n",
              "   'possible': 294,\n",
              "   'actual': 353,\n",
              "   'precision': 0.6685552407932012,\n",
              "   'recall': 0.8027210884353742,\n",
              "   'f1': 0.7295208655332303}},\n",
              " 'LOC': {'ent_type': {'correct': 167,\n",
              "   'incorrect': 23,\n",
              "   'partial': 0,\n",
              "   'missed': 21,\n",
              "   'spurious': 11,\n",
              "   'possible': 211,\n",
              "   'actual': 201,\n",
              "   'precision': 0.8308457711442786,\n",
              "   'recall': 0.7914691943127962,\n",
              "   'f1': 0.8106796116504854},\n",
              "  'partial': {'correct': 190,\n",
              "   'incorrect': 0,\n",
              "   'partial': 0,\n",
              "   'missed': 21,\n",
              "   'spurious': 11,\n",
              "   'possible': 211,\n",
              "   'actual': 201,\n",
              "   'precision': 0.945273631840796,\n",
              "   'recall': 0.9004739336492891,\n",
              "   'f1': 0.9223300970873786},\n",
              "  'strict': {'correct': 167,\n",
              "   'incorrect': 23,\n",
              "   'partial': 0,\n",
              "   'missed': 21,\n",
              "   'spurious': 11,\n",
              "   'possible': 211,\n",
              "   'actual': 201,\n",
              "   'precision': 0.8308457711442786,\n",
              "   'recall': 0.7914691943127962,\n",
              "   'f1': 0.8106796116504854},\n",
              "  'exact': {'correct': 190,\n",
              "   'incorrect': 0,\n",
              "   'partial': 0,\n",
              "   'missed': 21,\n",
              "   'spurious': 11,\n",
              "   'possible': 211,\n",
              "   'actual': 201,\n",
              "   'precision': 0.945273631840796,\n",
              "   'recall': 0.9004739336492891,\n",
              "   'f1': 0.9223300970873786}}}"
            ]
          },
          "metadata": {},
          "execution_count": 84
        }
      ]
    },
    {
      "cell_type": "code",
      "source": [],
      "metadata": {
        "id": "P6cry4SLdFIB"
      },
      "execution_count": null,
      "outputs": []
    }
  ]
}